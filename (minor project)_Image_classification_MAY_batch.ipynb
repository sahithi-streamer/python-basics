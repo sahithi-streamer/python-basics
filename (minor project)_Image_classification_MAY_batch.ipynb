{
  "nbformat": 4,
  "nbformat_minor": 0,
  "metadata": {
    "colab": {
      "name": "image classification/MAY-batch.ipynb",
      "provenance": [],
      "authorship_tag": "ABX9TyMAGheJTsdw1g03alfnNKcu",
      "include_colab_link": true
    },
    "kernelspec": {
      "name": "python3",
      "display_name": "Python 3"
    },
    "language_info": {
      "name": "python"
    }
  },
  "cells": [
    {
      "cell_type": "markdown",
      "metadata": {
        "id": "view-in-github",
        "colab_type": "text"
      },
      "source": [
        "<a href=\"https://colab.research.google.com/github/sahithi-streamer/python-basics/blob/main/(minor%20project)_Image_classification_MAY_batch.ipynb\" target=\"_parent\"><img src=\"https://colab.research.google.com/assets/colab-badge.svg\" alt=\"Open In Colab\"/></a>"
      ]
    },
    {
      "cell_type": "code",
      "metadata": {
        "id": "6_8dmOE8m3C5",
        "colab": {
          "base_uri": "https://localhost:8080/"
        },
        "outputId": "1c9d39f4-43ea-498e-a9d0-bb6b6ab8eef2"
      },
      "source": [
        "#IMAGE CLASSIFICATION-Data in images\n",
        "#Using Python libraries for scraping the images from bing\n",
        "!pip install bing-image-downloader \n"
      ],
      "execution_count": 3,
      "outputs": [
        {
          "output_type": "stream",
          "text": [
            "Collecting bing-image-downloader\n",
            "  Downloading https://files.pythonhosted.org/packages/2c/f9/e827c690d0df1ec2f2f27cf0fb3d1f944c5c56253f8d3750ccaff051b3d3/bing_image_downloader-1.1.0-py3-none-any.whl\n",
            "Installing collected packages: bing-image-downloader\n",
            "Successfully installed bing-image-downloader-1.1.0\n"
          ],
          "name": "stdout"
        }
      ]
    },
    {
      "cell_type": "code",
      "metadata": {
        "id": "ewEIIV5L0P6Q"
      },
      "source": [
        "# Creating a directory named images\n",
        "!mkdir images                      \n"
      ],
      "execution_count": 4,
      "outputs": []
    },
    {
      "cell_type": "code",
      "metadata": {
        "id": "8CtF9cY40SaA",
        "colab": {
          "base_uri": "https://localhost:8080/"
        },
        "outputId": "16de33cf-809b-4942-8512-e56ce4f46630"
      },
      "source": [
        "# Step-1: Gathering the data of images.\n",
        "## Download images from bing to the directory\n",
        "from bing_image_downloader import downloader\n",
        "downloader.download(\"cheetah\",limit=30,output_dir='images', adult_filter_off=True)"
      ],
      "execution_count": 5,
      "outputs": [
        {
          "output_type": "stream",
          "text": [
            "[%] Downloading Images to /content/images/cheetah\n",
            "\n",
            "\n",
            "[!!]Indexing page: 1\n",
            "\n",
            "[%] Indexed 30 Images on Page 1.\n",
            "\n",
            "===============================================\n",
            "\n",
            "[%] Downloading Image #1 from https://worldwideexperience.com/wp-content/uploads/2019/10/cheetah.jpg\n",
            "[%] File Downloaded !\n",
            "\n",
            "[%] Downloading Image #2 from http://1.bp.blogspot.com/-s3rKgPpsrq8/Tvx_HDljtdI/AAAAAAAAEDY/dOcQxz75hI0/s1600/cheetahs_1646474i4.jpg\n",
            "[%] File Downloaded !\n",
            "\n",
            "[%] Downloading Image #3 from http://willwork4travel.com/wp-content/uploads/2012/05/P1050154.jpg\n",
            "[%] File Downloaded !\n",
            "\n",
            "[%] Downloading Image #4 from http://1.bp.blogspot.com/-Lqv46GHcn0k/UKNcFWZvGII/AAAAAAAAADU/022KqyaSPnM/s1600/cheetahs+pride.jpg\n",
            "[%] File Downloaded !\n",
            "\n",
            "[%] Downloading Image #5 from https://www.rd.com/wp-content/uploads/2019/11/shutterstock_762734848.jpg\n",
            "[%] File Downloaded !\n",
            "\n",
            "[%] Downloading Image #6 from https://1.bp.blogspot.com/-xroPGO7XnEA/TVbIMY3jQDI/AAAAAAAAAAs/3UbiHKOG4ec/s1600/DSCN2773.JPG\n",
            "[%] File Downloaded !\n",
            "\n",
            "[%] Downloading Image #7 from http://www.cbc.ca/kidscbc2/content/the_feed/cheetah-in-grasses-compressor.jpg\n",
            "[%] File Downloaded !\n",
            "\n",
            "[%] Downloading Image #8 from https://1.bp.blogspot.com/-mivJeI22HQk/Tvx_Tb8YNyI/AAAAAAAAEDo/WC54UvSv464/s1600/cheetahs_1646474i7.jpg\n",
            "[%] File Downloaded !\n",
            "\n",
            "[%] Downloading Image #9 from http://media.londolozi.com/wp-content/uploads/2016/03/11030658/Cheetah-Claws-720x480.jpg\n",
            "[%] File Downloaded !\n",
            "\n",
            "[%] Downloading Image #10 from http://4.bp.blogspot.com/-ZuA-7FNmz2g/T-SIWIsf6TI/AAAAAAAAARI/5W0V4h938GE/s1600/Cheetah3.jpg\n",
            "[%] File Downloaded !\n",
            "\n",
            "[%] Downloading Image #11 from http://wallpapercave.com/wp/TwiMyLV.jpg\n",
            "[%] File Downloaded !\n",
            "\n",
            "[%] Downloading Image #12 from https://murals-weblinc.netdna-ssl.com/product_images/cheetah-and-cubs-mural/5ec82d74bd89dd0018f75796/zoom.jpg?c=1590177140\n",
            "[%] File Downloaded !\n",
            "\n",
            "[%] Downloading Image #13 from http://s3.amazonaws.com/Photo_of_the_Day/system/uploads/photo/image/471/sized_WPT27762A.jpg\n",
            "[%] File Downloaded !\n",
            "\n",
            "[%] Downloading Image #14 from https://savingwild.com/wp-content/uploads/2012/07/cheetah.jpg\n",
            "[%] File Downloaded !\n",
            "\n",
            "[%] Downloading Image #15 from http://cdn.phys.org/newman/gfx/news/hires/cheetah.jpg\n",
            "[%] File Downloaded !\n",
            "\n",
            "[%] Downloading Image #16 from http://4.bp.blogspot.com/-aCCN3Uj9QwU/T_Uz00eqqbI/AAAAAAAAMVI/JR47LHphs2U/w1200-h630-p-k-no-nu/Cheetah3.jpg\n",
            "[%] File Downloaded !\n",
            "\n",
            "[%] Downloading Image #17 from http://4.bp.blogspot.com/-_f00jcPVwFE/T_Uz_O4H15I/AAAAAAAAMVY/Q1OtaA7xa_c/s1600/Cheetah5.jpg\n",
            "[%] File Downloaded !\n",
            "\n",
            "[%] Downloading Image #18 from https://i.pinimg.com/originals/0a/ec/dd/0aecdd58fc74c02a3cb0282ab7956e8b.jpg\n",
            "[%] File Downloaded !\n",
            "\n",
            "[%] Downloading Image #19 from http://whyevolutionistrue.com/wp-content/uploads/2010/03/common-cheetah-flickr1.jpg\n",
            "[%] File Downloaded !\n",
            "\n",
            "[%] Downloading Image #20 from http://tanzaniatourism.go.tz/images/did_you_know/cheeter.jpg\n",
            "[%] File Downloaded !\n",
            "\n",
            "[%] Downloading Image #21 from http://1.bp.blogspot.com/-_BqqJlJ755Q/T_UzsDP1-VI/AAAAAAAAMU4/WC2_5HloyHk/s1600/Cheetah.jpg\n",
            "[%] File Downloaded !\n",
            "\n",
            "[%] Downloading Image #22 from http://yellowmagpie.com/wp-content/uploads/2009/11/Cheetah-Cub-Photo-By-Muhammad-Mahdi-Karim-GNU-Free-Documentation-License.jpg\n",
            "[%] File Downloaded !\n",
            "\n",
            "[%] Downloading Image #23 from https://4.bp.blogspot.com/-q15aUfcjspY/T-SIh2HxN-I/AAAAAAAAARo/ocDw3sca1tU/s1600/cheetahs_1646474i.jpg\n",
            "[%] File Downloaded !\n",
            "\n",
            "[%] Downloading Image #24 from https://www.thecrowdedplanet.com/wp-content/uploads/2016/12/southern-africa-cheetah.jpg\n",
            "[%] File Downloaded !\n",
            "\n",
            "[%] Downloading Image #25 from https://rangerdiaries.com/wp-content/uploads/images/diaries/Evl2PkKp.jpg\n",
            "[%] File Downloaded !\n",
            "\n",
            "[%] Downloading Image #26 from https://i.ytimg.com/vi/HU5PlStFifw/maxresdefault.jpg\n",
            "[%] File Downloaded !\n",
            "\n",
            "[%] Downloading Image #27 from https://media.londolozi.com/wp-content/uploads/2016/12/11002524/MG_2886.jpg\n",
            "[%] File Downloaded !\n",
            "\n",
            "[%] Downloading Image #28 from http://2.bp.blogspot.com/-prV_8zvUR-E/T-SIaq727BI/AAAAAAAAARQ/LnYsezb6XAE/w1200-h630-p-k-nu/Cheetah4.jpg\n",
            "[%] File Downloaded !\n",
            "\n",
            "[%] Downloading Image #29 from https://media.londolozi.com/wp-content/uploads/2019/11/08110711/2-cheetahs-walking-front1-1598x1111.jpg\n",
            "[%] File Downloaded !\n",
            "\n",
            "[%] Downloading Image #30 from https://4.bp.blogspot.com/-H01gYv5vu7g/Tvx_AuxbWhI/AAAAAAAAEDI/q7WoNZSYmyo/s1600/cheetahs_1646474i2.jpg\n",
            "[%] File Downloaded !\n",
            "\n",
            "\n",
            "\n",
            "[%] Done. Downloaded 30 images.\n",
            "===============================================\n",
            "\n",
            "Please show your support here\n",
            "https://www.buymeacoffee.com/gurugaurav\n",
            "\n",
            "===============================================\n",
            "\n"
          ],
          "name": "stdout"
        }
      ]
    },
    {
      "cell_type": "code",
      "metadata": {
        "colab": {
          "base_uri": "https://localhost:8080/"
        },
        "id": "ojTOlByh0_Lp",
        "outputId": "50b0f2e7-bb0d-4052-ca10-6dfddceb84ce"
      },
      "source": [
        "downloader.download(\"dog\",limit=30,output_dir='images',adult_filter_off=True)"
      ],
      "execution_count": 6,
      "outputs": [
        {
          "output_type": "stream",
          "text": [
            "[%] Downloading Images to /content/images/dog\n",
            "\n",
            "\n",
            "[!!]Indexing page: 1\n",
            "\n",
            "[%] Indexed 30 Images on Page 1.\n",
            "\n",
            "===============================================\n",
            "\n",
            "[%] Downloading Image #1 from https://cdn.newsapi.com.au/image/v1/098fe707e818d4d04deb0e27af7186bd?width=650\n",
            "[%] File Downloaded !\n",
            "\n",
            "[%] Downloading Image #2 from http://schoolmum.net/wp-content/uploads/2016/12/RedDog-TrueBlue-FULL.jpg\n",
            "[%] File Downloaded !\n",
            "\n",
            "[%] Downloading Image #3 from https://i.ytimg.com/vi/Pc1ms7EG7UE/maxresdefault.jpg\n",
            "[%] File Downloaded !\n",
            "\n",
            "[%] Downloading Image #4 from https://static.ffx.io/images/$width_620%2C$height_414/t_crop_fill/q_86%2Cf_auto/t_theage_no_label_social_wm/l_text:PT Sans_41_bold_italic: from %2Cg_south_west%2Cy_84%2Cx_384%2Cco_rgb:0a1633/l_text:PT Sans_41_bold:  %2Cg_south_west%2Cy_90%2Cx_471%2Cco_rgb:0a1633/l_text:AbrilTitling-Bold.ttf_83: 2012 %2Cg_south_west%2Cy_15%2Cx_370%2Cco_rgb:0a1633/c948ee51fe003a1416ba1fd5de5d5fcf23452d74\n",
            "[!] Issue getting: https://static.ffx.io/images/$width_620%2C$height_414/t_crop_fill/q_86%2Cf_auto/t_theage_no_label_social_wm/l_text:PT Sans_41_bold_italic: from %2Cg_south_west%2Cy_84%2Cx_384%2Cco_rgb:0a1633/l_text:PT Sans_41_bold:  %2Cg_south_west%2Cy_90%2Cx_471%2Cco_rgb:0a1633/l_text:AbrilTitling-Bold.ttf_83: 2012 %2Cg_south_west%2Cy_15%2Cx_370%2Cco_rgb:0a1633/c948ee51fe003a1416ba1fd5de5d5fcf23452d74\n",
            "[!] Error:: URL can't contain control characters. '/images/$width_620%2C$height_414/t_crop_fill/q_86%2Cf_auto/t_theage_no_label_social_wm/l_text:PT Sans_41_bold_italic: from %2Cg_south_west%2Cy_84%2Cx_384%2Cco_rgb:0a1633/l_text:PT Sans_41_bold:  %2Cg_south_west%2Cy_90%2Cx_471%2Cco_rgb:0a1633/l_text:AbrilTitling-Bold.ttf_83: 2012 %2Cg_south_west%2Cy_15%2Cx_370%2Cco_rgb:0a1633/c948ee51fe003a1416ba1fd5de5d5fcf23452d74' (found at least ' ')\n",
            "[%] Downloading Image #4 from https://stack.com.au/wp-content/uploads/2016/09/Red_Dog_True_Blue.jpg\n",
            "[%] File Downloaded !\n",
            "\n",
            "[%] Downloading Image #5 from https://i.ytimg.com/vi/34yF2odGSTw/maxresdefault.jpg\n",
            "[%] File Downloaded !\n",
            "\n",
            "[%] Downloading Image #6 from https://www.impulsegamer.com/articles/wp-content/uploads/2016/12/Mum2-834x1024.jpg\n",
            "[%] File Downloaded !\n",
            "\n",
            "[%] Downloading Image #7 from https://i.ytimg.com/vi/cwNXkxemx5k/maxresdefault.jpg\n",
            "[%] File Downloaded !\n",
            "\n",
            "[%] Downloading Image #8 from https://i.pinimg.com/originals/cc/0b/d1/cc0bd10f3e9581c71590af908ab53fd2.jpg\n",
            "[%] File Downloaded !\n",
            "\n",
            "[%] Downloading Image #9 from https://i.pinimg.com/originals/30/29/bf/3029bf77283796e996d5f2bdeaaf5ef7.jpg\n",
            "[%] File Downloaded !\n",
            "\n",
            "[%] Downloading Image #10 from https://www.shanethegamer.com/wp-content/uploads/2016/12/Red-Dog-True-Blue.jpg\n",
            "[%] File Downloaded !\n",
            "\n",
            "[%] Downloading Image #11 from https://assets.mubicdn.net/images/film/155689/image-w856.jpg?1471008654\n",
            "[%] File Downloaded !\n",
            "\n",
            "[%] Downloading Image #12 from https://ih1.redbubble.net/image.92734969.6503/flat,1000x1000,075,f.u1.jpg\n",
            "[%] File Downloaded !\n",
            "\n",
            "[%] Downloading Image #13 from https://cdn.newsapi.com.au/image/v1/3e1b4219001485d0a27bf0e3e53c4e33?width=1024\n",
            "[%] File Downloaded !\n",
            "\n",
            "[%] Downloading Image #14 from http://villemagazine.com/images/easyblog_articles/257/b2ap3_large_true-dog-parent.jpg\n",
            "[%] File Downloaded !\n",
            "\n",
            "[%] Downloading Image #15 from https://www.reddogwa.com/yahoo_site_admin/assets/images/red-dog--true-blue-2016-large-cover.169221152_large.jpg\n",
            "[%] File Downloaded !\n",
            "\n",
            "[%] Downloading Image #16 from http://image.tmdb.org/t/p/original/ynVc8dxrWUuVguEtdCmmBpBDyXD.jpg\n",
            "[%] File Downloaded !\n",
            "\n",
            "[%] Downloading Image #17 from http://www.thebookthefilmthetshirt.co.uk/wp-content/uploads/2016/09/FeatureRed-Dog-True-Blue.gif\n",
            "[%] File Downloaded !\n",
            "\n",
            "[%] Downloading Image #18 from http://cdn.newsapi.com.au/image/v1/8c230ad6c5cb97f6d23cef76930afadf\n",
            "[%] File Downloaded !\n",
            "\n",
            "[%] Downloading Image #19 from https://i.ytimg.com/vi/PJF4agXix14/maxresdefault.jpg\n",
            "[%] File Downloaded !\n",
            "\n",
            "[%] Downloading Image #20 from https://i.pinimg.com/736x/47/c7/63/47c7632aa28132d90e150805df317cf8--true-beauty-dog-lovers.jpg\n",
            "[%] File Downloaded !\n",
            "\n",
            "[%] Downloading Image #21 from https://i.ytimg.com/vi/xKMA2vduCeg/maxresdefault.jpg\n",
            "[%] File Downloaded !\n",
            "\n",
            "[%] Downloading Image #22 from https://cps-static.rovicorp.com/2/Open/Roadshow_Entertainment_2116/Program/30788783/_3by4/_derived_jpg_q90_600x800_m0/Blue Dog_17266.jpg?partner=allmovie_soap\n",
            "[!] Issue getting: https://cps-static.rovicorp.com/2/Open/Roadshow_Entertainment_2116/Program/30788783/_3by4/_derived_jpg_q90_600x800_m0/Blue Dog_17266.jpg?partner=allmovie_soap\n",
            "[!] Error:: URL can't contain control characters. '/2/Open/Roadshow_Entertainment_2116/Program/30788783/_3by4/_derived_jpg_q90_600x800_m0/Blue Dog_17266.jpg?partner=allmovie_soap' (found at least ' ')\n",
            "[%] Downloading Image #22 from https://www.dogshaming.com/wp-content/uploads/2014/06/image.jpg\n",
            "[%] File Downloaded !\n",
            "\n",
            "[%] Downloading Image #23 from https://mydoglikes.com/wp-content/uploads/2017/01/Grain-Free-Dog-Food.jpg\n",
            "[%] File Downloaded !\n",
            "\n",
            "[%] Downloading Image #24 from http://www.shedoesthecity.com/wp-content/uploads/files/2013/05/marshall-1.jpg\n",
            "[%] File Downloaded !\n",
            "\n",
            "[%] Downloading Image #25 from https://www.annmarieackermann.com/wp-content/uploads/2015/10/Frank-cropped.jpg\n",
            "[%] File Downloaded !\n",
            "\n",
            "[%] Downloading Image #26 from https://img.women.com/images/images/000/113/751/large/Untitled_2.png?1508748247\n",
            "[%] File Downloaded !\n",
            "\n",
            "[%] Downloading Image #27 from https://mydoglikes.com/wp-content/uploads/2017/10/True-Chews-Dog-Treats.jpg\n",
            "[%] File Downloaded !\n",
            "\n",
            "[%] Downloading Image #28 from https://www.fetchpetcare.com/wp-content/uploads/2016/11/bonus-ramen-noodle-poodle.jpg\n",
            "[%] File Downloaded !\n",
            "\n",
            "\n",
            "\n",
            "[!!]Indexing page: 2\n",
            "\n",
            "[%] Indexed 35 Images on Page 2.\n",
            "\n",
            "===============================================\n",
            "\n",
            "[%] Downloading Image #29 from https://cdn.newsapi.com.au/image/v1/098fe707e818d4d04deb0e27af7186bd?width=650\n",
            "[%] File Downloaded !\n",
            "\n",
            "[%] Downloading Image #30 from http://schoolmum.net/wp-content/uploads/2016/12/RedDog-TrueBlue-FULL.jpg\n",
            "[%] File Downloaded !\n",
            "\n",
            "\n",
            "\n",
            "[%] Done. Downloaded 30 images.\n",
            "===============================================\n",
            "\n",
            "Please show your support here\n",
            "https://www.buymeacoffee.com/gurugaurav\n",
            "\n",
            "===============================================\n",
            "\n"
          ],
          "name": "stdout"
        }
      ]
    },
    {
      "cell_type": "code",
      "metadata": {
        "id": "78SNJYuz1htx"
      },
      "source": [
        "# Step-2: Preprocessing: 1. Resize the images(pixels)\n",
        "#                2. Flatten (matrices to vector conversion)\n",
        "\n",
        "import os\n",
        "import numpy as np\n",
        "import matplotlib.pyplot as plt\n",
        "#Scikit-image library for resizing and reading\n",
        "from skimage.transform import resize\n",
        "from skimage.io import imread\n",
        "\n",
        "images = []\n",
        "flatten_data = []\n",
        "target = []\n",
        "CATEGORIES = ['cheetah','dog']\n",
        "# For Considering the path\n",
        "data_dir = '/content/images'\n",
        "\n",
        "# Now start iterating\n",
        "\n",
        "for i in CATEGORIES: # where i=category\n",
        "  # we are label encoding the values\n",
        "  num_class = CATEGORIES.index(i)\n",
        "  # Creating the respective paths to the images for usage\n",
        "  path = os.path.join(data_dir,i) \n",
        "  for img in os.listdir(path):\n",
        "     imgs_array = imread(os.path.join(path,img))\n",
        "    # Normalizes the value from 0 to 1\n",
        "     img_resized = resize(imgs_array,(150,150,3)) \n",
        "     flatten_data.append(img_resized.flatten())\n",
        "     images.append(img_resized)\n",
        "     target.append( num_class)\n",
        "\n",
        "flatten_data = np.array(flatten_data)\n",
        "target = np.array(target)\n",
        "images = np.array(images)\n"
      ],
      "execution_count": 18,
      "outputs": []
    },
    {
      "cell_type": "code",
      "metadata": {
        "colab": {
          "base_uri": "https://localhost:8080/"
        },
        "id": "HjlMH6wHUCAN",
        "outputId": "adf01604-0af3-4850-aa04-8998bd6d1e62"
      },
      "source": [
        "print(flatten_data[1]) # just checking the data we got\n",
        "print(target[0])\n",
        "print(images[1])"
      ],
      "execution_count": 21,
      "outputs": [
        {
          "output_type": "stream",
          "text": [
            "[0.03529412 0.         0.         ... 0.04705882 0.00392157 0.        ]\n",
            "0\n",
            "[[[0.03529412 0.         0.        ]\n",
            "  [0.0372549  0.         0.        ]\n",
            "  [0.03921569 0.         0.        ]\n",
            "  ...\n",
            "  [0.03921569 0.         0.        ]\n",
            "  [0.03921569 0.         0.        ]\n",
            "  [0.03529412 0.         0.        ]]\n",
            "\n",
            " [[0.03921569 0.         0.        ]\n",
            "  [0.03921569 0.         0.        ]\n",
            "  [0.03921569 0.         0.        ]\n",
            "  ...\n",
            "  [0.03921569 0.         0.        ]\n",
            "  [0.03921569 0.         0.        ]\n",
            "  [0.03921569 0.         0.        ]]\n",
            "\n",
            " [[0.03921569 0.         0.        ]\n",
            "  [0.04313725 0.         0.        ]\n",
            "  [0.04281046 0.         0.        ]\n",
            "  ...\n",
            "  [0.03921569 0.         0.        ]\n",
            "  [0.03431373 0.         0.        ]\n",
            "  [0.03921569 0.         0.        ]]\n",
            "\n",
            " ...\n",
            "\n",
            " [[0.04313725 0.         0.        ]\n",
            "  [0.04313725 0.         0.        ]\n",
            "  [0.05163399 0.00849673 0.00849673]\n",
            "  ...\n",
            "  [0.04705882 0.         0.        ]\n",
            "  [0.04607843 0.         0.        ]\n",
            "  [0.04705882 0.00588235 0.        ]]\n",
            "\n",
            " [[0.04705882 0.         0.        ]\n",
            "  [0.04705882 0.         0.        ]\n",
            "  [0.04771242 0.00816993 0.00816993]\n",
            "  ...\n",
            "  [0.04705882 0.         0.        ]\n",
            "  [0.04313725 0.         0.        ]\n",
            "  [0.04313725 0.00392157 0.        ]]\n",
            "\n",
            " [[0.0372549  0.         0.        ]\n",
            "  [0.03333333 0.         0.00196078]\n",
            "  [0.03562092 0.00849673 0.0124183 ]\n",
            "  ...\n",
            "  [0.04705882 0.         0.        ]\n",
            "  [0.04705882 0.00196078 0.        ]\n",
            "  [0.04705882 0.00392157 0.        ]]]\n"
          ],
          "name": "stdout"
        }
      ]
    },
    {
      "cell_type": "code",
      "metadata": {
        "id": "Q_gMLSLNYU9p"
      },
      "source": [
        "# Step-3: Splitting the data into  Testing ,Training.\n",
        "from sklearn.model_selection import train_test_split\n",
        "x_train,x_test,y_train,y_test = train_test_split(flatten_data,target,test_size=0.3,random_state=107)"
      ],
      "execution_count": 23,
      "outputs": []
    },
    {
      "cell_type": "code",
      "metadata": {
        "colab": {
          "base_uri": "https://localhost:8080/"
        },
        "id": "wF6nh0S5ZSy3",
        "outputId": "c2235b9f-5b51-4526-9e53-a0bba174a546"
      },
      "source": [
        "#Using SVM algorithm for classification\n",
        "from sklearn.model_selection import GridSearchCV\n",
        "from sklearn import svm\n",
        "param_grid = [{'C':[1,10,100,1000],'kernel':['linear']},{'C':[1,10,100,1000],'gamma':[0.001,0.0001],'kernel':['rbf']}]\n",
        "# Here make sure the probability is true for getting all the probabilities in output\n",
        "svc = svm.SVC(probability=True)\n",
        "clf = GridSearchCV(svc,param_grid)\n",
        "clf.fit(x_train,y_train)"
      ],
      "execution_count": 24,
      "outputs": [
        {
          "output_type": "execute_result",
          "data": {
            "text/plain": [
              "GridSearchCV(cv=None, error_score=nan,\n",
              "             estimator=SVC(C=1.0, break_ties=False, cache_size=200,\n",
              "                           class_weight=None, coef0=0.0,\n",
              "                           decision_function_shape='ovr', degree=3,\n",
              "                           gamma='scale', kernel='rbf', max_iter=-1,\n",
              "                           probability=True, random_state=None, shrinking=True,\n",
              "                           tol=0.001, verbose=False),\n",
              "             iid='deprecated', n_jobs=None,\n",
              "             param_grid=[{'C': [1, 10, 100, 1000], 'kernel': ['linear']},\n",
              "                         {'C': [1, 10, 100, 1000], 'gamma': [0.001, 0.0001],\n",
              "                          'kernel': ['rbf']}],\n",
              "             pre_dispatch='2*n_jobs', refit=True, return_train_score=False,\n",
              "             scoring=None, verbose=0)"
            ]
          },
          "metadata": {
            "tags": []
          },
          "execution_count": 24
        }
      ]
    },
    {
      "cell_type": "code",
      "metadata": {
        "colab": {
          "base_uri": "https://localhost:8080/"
        },
        "id": "uxET2mLqeO_l",
        "outputId": "c7e06dcf-09ec-43ea-ed48-1f940e4ee717"
      },
      "source": [
        "y_test"
      ],
      "execution_count": 25,
      "outputs": [
        {
          "output_type": "execute_result",
          "data": {
            "text/plain": [
              "array([1, 0, 1, 1, 0, 1, 1, 0, 0, 0, 0, 1, 0, 1, 0, 0, 1, 1])"
            ]
          },
          "metadata": {
            "tags": []
          },
          "execution_count": 25
        }
      ]
    },
    {
      "cell_type": "code",
      "metadata": {
        "colab": {
          "base_uri": "https://localhost:8080/"
        },
        "id": "dj0zvtKGeRZl",
        "outputId": "80369b2f-d8a1-4a07-a461-109995f2fdfd"
      },
      "source": [
        "y_pred = clf.predict(x_test)\n",
        "y_pred"
      ],
      "execution_count": 26,
      "outputs": [
        {
          "output_type": "execute_result",
          "data": {
            "text/plain": [
              "array([1, 1, 1, 0, 0, 0, 1, 0, 0, 1, 1, 0, 0, 1, 0, 0, 1, 0])"
            ]
          },
          "metadata": {
            "tags": []
          },
          "execution_count": 26
        }
      ]
    },
    {
      "cell_type": "code",
      "metadata": {
        "colab": {
          "base_uri": "https://localhost:8080/"
        },
        "id": "1vJ9h6npc5nQ",
        "outputId": "6bd80f56-0b1e-42a8-cb56-5231c3f354c4"
      },
      "source": [
        "# Evaluation: checking the accuracy of the model\n",
        "from sklearn.metrics import accuracy_score,confusion_matrix\n",
        "accuracy_score(y_pred,y_test)"
      ],
      "execution_count": 29,
      "outputs": [
        {
          "output_type": "execute_result",
          "data": {
            "text/plain": [
              "0.6111111111111112"
            ]
          },
          "metadata": {
            "tags": []
          },
          "execution_count": 29
        }
      ]
    },
    {
      "cell_type": "code",
      "metadata": {
        "id": "u9wgYscFiC7X"
      },
      "source": [
        "# Save the model using Pickle library\n",
        "import pickle\n",
        "pickle.dump(clf,open('img_model.p','wb'))"
      ],
      "execution_count": 40,
      "outputs": []
    },
    {
      "cell_type": "code",
      "metadata": {
        "id": "qCeNcQ-giLeH"
      },
      "source": [
        "model = pickle.load(open('img_model.p','rb'))"
      ],
      "execution_count": 41,
      "outputs": []
    },
    {
      "cell_type": "code",
      "metadata": {
        "colab": {
          "base_uri": "https://localhost:8080/"
        },
        "id": "u3GmWerWiY9-",
        "outputId": "ac36b74d-072d-49ec-ffe1-a3cab9a85b35"
      },
      "source": [
        "# Step-3: Deployment : using streamlit-webapp\n",
        "!pip install streamlit --quiet\n",
        "!pip install pyngrok==4.1.1 --quiet\n",
        "from pyngrok import ngrok"
      ],
      "execution_count": 44,
      "outputs": [
        {
          "output_type": "stream",
          "text": [
            "\u001b[K     |████████████████████████████████| 7.8MB 7.2MB/s \n",
            "\u001b[K     |████████████████████████████████| 112kB 61.4MB/s \n",
            "\u001b[K     |████████████████████████████████| 174kB 54.7MB/s \n",
            "\u001b[K     |████████████████████████████████| 81kB 11.3MB/s \n",
            "\u001b[K     |████████████████████████████████| 4.2MB 45.7MB/s \n",
            "\u001b[K     |████████████████████████████████| 71kB 10.7MB/s \n",
            "\u001b[K     |████████████████████████████████| 122kB 53.8MB/s \n",
            "\u001b[?25h  Building wheel for blinker (setup.py) ... \u001b[?25l\u001b[?25hdone\n",
            "\u001b[31mERROR: google-colab 1.0.0 has requirement ipykernel~=4.10, but you'll have ipykernel 5.5.5 which is incompatible.\u001b[0m\n",
            "  Building wheel for pyngrok (setup.py) ... \u001b[?25l\u001b[?25hdone\n"
          ],
          "name": "stdout"
        }
      ]
    },
    {
      "cell_type": "code",
      "metadata": {
        "colab": {
          "base_uri": "https://localhost:8080/"
        },
        "id": "-dKO_djOjWNj",
        "outputId": "5cb1dbe7-74af-4ba9-cc15-baebb9292e78"
      },
      "source": [
        "%%writefile app.py\n",
        "import streamlit as st\n",
        "import numpy as np\n",
        "from skimage.io import imread\n",
        "from skimage.transform import resize\n",
        "import pickle \n",
        "from PIL import Image\n",
        "st.set_option('deprecation.showfileUploaderEncoding', False)\n",
        "st.title('Image Classifier using Machine Learning')\n",
        "st.text('Upload the Respective-Image')\n",
        "\n",
        "model = pickle.load(open('img_model.p','rb'))\n",
        "\n",
        "uploaded_file = st.file_uploader(\"Choose an image for output...\", type=\"jpg\")\n",
        "if uploaded_file is not None:\n",
        "  img = Image.open(uploaded_file)\n",
        "  st.image(img,caption='Uploaded Image')\n",
        "\n",
        "  if st.button('PREDICT THE OUTPUT'):\n",
        "    CATEGORIES = ['cheetah','dog']\n",
        "    st.write('Result is >>...')\n",
        "    flatten_data=[]\n",
        "    img = np.array(img)\n",
        "    img_resized = resize(img,(150,150,3))\n",
        "    flatten_data.append(img_resized.flatten())\n",
        "    flatten_data = np.array(flatten_data)\n",
        "    y_out = model.predict(flatten_data)\n",
        "    y_out = CATEGORIES[y_out[0]]\n",
        "    st.title(f' PREDICTED OUTPUT: {y_out}')\n",
        "    q = model.predict_proba(flatten_data)\n",
        "    for index, item in enumerate(CATEGORIES):\n",
        "      st.write(f'{item} : {q[0][index]*100}%')\n",
        "\n"
      ],
      "execution_count": 48,
      "outputs": [
        {
          "output_type": "stream",
          "text": [
            "Overwriting app.py\n"
          ],
          "name": "stdout"
        }
      ]
    },
    {
      "cell_type": "code",
      "metadata": {
        "colab": {
          "base_uri": "https://localhost:8080/",
          "height": 52
        },
        "id": "4maC0L4kkRzH",
        "outputId": "af93c41f-a3c8-4de6-af14-25e2b528b2bb"
      },
      "source": [
        "!nohup streamlit run app.py &\n",
        "\n",
        "url = ngrok.connect(port='8501')\n",
        "url"
      ],
      "execution_count": 46,
      "outputs": [
        {
          "output_type": "stream",
          "text": [
            "nohup: appending output to 'nohup.out'\n"
          ],
          "name": "stdout"
        },
        {
          "output_type": "execute_result",
          "data": {
            "application/vnd.google.colaboratory.intrinsic+json": {
              "type": "string"
            },
            "text/plain": [
              "'http://7b29834be067.ngrok.io'"
            ]
          },
          "metadata": {
            "tags": []
          },
          "execution_count": 46
        }
      ]
    }
  ]
}