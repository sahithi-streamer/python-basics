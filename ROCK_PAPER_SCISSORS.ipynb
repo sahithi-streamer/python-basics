{
  "nbformat": 4,
  "nbformat_minor": 0,
  "metadata": {
    "colab": {
      "name": "ROCK PAPER SCISSORS.ipynb",
      "provenance": [],
      "mount_file_id": "1ov-NH3IwlwKQlELR3vwE1UAE9lUsdyxl",
      "authorship_tag": "ABX9TyOh24W0k8x3tTcIaQPDMmDa",
      "include_colab_link": true
    },
    "kernelspec": {
      "name": "python3",
      "display_name": "Python 3"
    },
    "language_info": {
      "name": "python"
    }
  },
  "cells": [
    {
      "cell_type": "markdown",
      "metadata": {
        "id": "view-in-github",
        "colab_type": "text"
      },
      "source": [
        "<a href=\"https://colab.research.google.com/github/sahithi-streamer/python-basics/blob/main/ROCK_PAPER_SCISSORS.ipynb\" target=\"_parent\"><img src=\"https://colab.research.google.com/assets/colab-badge.svg\" alt=\"Open In Colab\"/></a>"
      ]
    },
    {
      "cell_type": "code",
      "metadata": {
        "id": "mSR7p5ESxi4G",
        "colab": {
          "base_uri": "https://localhost:8080/"
        },
        "outputId": "dc56c61b-8146-4613-cf60-fc869e14a264"
      },
      "source": [
        "import random\n",
        "choices = [\"Rock\", \"Paper\", \"Scissors\"]\n",
        "computer = random.choice(choices)\n",
        "cpu_score = 0\n",
        "player_score = 0\n",
        "while (True):\n",
        "    player=input(\"Rock, Paper or  Scissors?\").capitalize()\n",
        "    if player==computer:\n",
        "       print(\"tie!!\")\n",
        "    elif player==\"Rock\":\n",
        "       if computer == \"Paper\":\n",
        "            print(\"You lose!\", computer, \"covers\", player)\n",
        "            cpu_score+=1\n",
        "       else:\n",
        "            print(\"you win!!\",player,\"smashes\",computer)\n",
        "            player_score+=1\n",
        "    elif player == \"Paper\":\n",
        "       if computer == \"Scissors\":\n",
        "            print(\"You lose!\", computer, \"cut\", player)\n",
        "            cpu_score+=1\n",
        "       else:\n",
        "            print(\"You win!\", player, \"covers\", computer)\n",
        "            player_score+=1\n",
        "    elif player == \"Scissors\":\n",
        "       if computer == \"Rock\":\n",
        "            print(\"You lose!\", computer, \"smashes\", player)\n",
        "            cpu_score+=1\n",
        "       else:\n",
        "            print(\"You win!\", player, \"cuts\", computer)\n",
        "            player_score+=1  \n",
        "    elif player==\"End\":\n",
        "       print(\"Final Scores:\")\n",
        "       print(player_score)\n",
        "       print( cpu_score)\n",
        "       break\n"
      ],
      "execution_count": 8,
      "outputs": [
        {
          "output_type": "stream",
          "text": [
            "Rock, Paper or  Scissors?ROCK\n",
            "tie!!\n",
            "Rock, Paper or  Scissors?scissors\n",
            "You lose! Rock smashes Scissors\n",
            "Rock, Paper or  Scissors?rock\n",
            "tie!!\n",
            "Rock, Paper or  Scissors?paper\n",
            "You win! Paper covers Rock\n",
            "Rock, Paper or  Scissors?envd\n",
            "Rock, Paper or  Scissors?end\n",
            "Final Scores:\n",
            "1\n",
            "1\n"
          ],
          "name": "stdout"
        }
      ]
    },
    {
      "cell_type": "code",
      "metadata": {
        "id": "0FBuPPuvChY4"
      },
      "source": [
        ""
      ],
      "execution_count": null,
      "outputs": []
    }
  ]
}