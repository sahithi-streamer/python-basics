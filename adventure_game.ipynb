{
  "nbformat": 4,
  "nbformat_minor": 0,
  "metadata": {
    "colab": {
      "name": "adventure game.ipynb",
      "provenance": [],
      "authorship_tag": "ABX9TyPw5URoOZ0U+GsSaSM93VEs",
      "include_colab_link": true
    },
    "kernelspec": {
      "name": "python3",
      "display_name": "Python 3"
    },
    "language_info": {
      "name": "python"
    }
  },
  "cells": [
    {
      "cell_type": "markdown",
      "metadata": {
        "id": "view-in-github",
        "colab_type": "text"
      },
      "source": [
        "<a href=\"https://colab.research.google.com/github/sahithi-streamer/python-basics/blob/main/adventure_game.ipynb\" target=\"_parent\"><img src=\"https://colab.research.google.com/assets/colab-badge.svg\" alt=\"Open In Colab\"/></a>"
      ]
    },
    {
      "cell_type": "code",
      "metadata": {
        "colab": {
          "base_uri": "https://localhost:8080/"
        },
        "id": "13nZ2sBPs3MR",
        "outputId": "ef852248-367a-4da8-86be-bf1cb5dae0ef"
      },
      "source": [
        "def diamond_room():\n",
        "  print(\"Now you entered into the last level ...The Glorious diamond room....\")\n",
        "  print(\"To win choose any one door(left or right)\")\n",
        "  player=input()\n",
        "  if player==\"right\":\n",
        "     print(\"you won...!\")\n",
        "  else:\n",
        "     print(\"you are dead....good luck for next time...!\")\n",
        "\n",
        "def Tiger_room():\n",
        "  print(\"Now you entered into the dangerous Tigerroom....\")\n",
        "  print(\"To escape choose any one door(left or right)\")\n",
        "  player=input()\n",
        "  if player==\"right\":\n",
        "     print(\"you are dead....good luck for next time...!\")\n",
        "  else:\n",
        "     diamond_room()\n",
        "\n",
        "def Bear_room():\n",
        "  print(\"Now you entered into the dangerous bear_room....\")\n",
        "  print(\"To escape choose any one door(left or right)\")\n",
        "  player=input()\n",
        "  if player==\"left\":\n",
        "     print(\"you are dead....good luck for next time...!\")\n",
        "  else:\n",
        "    Tiger_room()\n",
        "def Monster_room():\n",
        "  print(\"Now you entered into the horrible monster_room....\")\n",
        "  print(\"To escape choose any one door(left or right)\")\n",
        "  player=input()\n",
        "  if player==\"left\":\n",
        "     diamond_room()\n",
        "  else:\n",
        "     print(\"you are dead....good luck for next time...!\")\n",
        "\n",
        "def start():\n",
        "  print(\"Now you are standing in a dark...\")\n",
        "  print(\"To escape from this room....\")\n",
        "  print(\" you have to choose any one door from  these two doors (left or right)\")\n",
        "  print(\"  if you have to choose any one door type (left or right).. and enter....\")\n",
        "  player=input()\n",
        "  if player==\"left\":\n",
        "    Bear_room()\n",
        "  elif player==\"right\":\n",
        "    Monster_room()\n",
        "\n",
        "start()    \n",
        "    \n",
        "  \n",
        "\n",
        "\n"
      ],
      "execution_count": 4,
      "outputs": [
        {
          "output_type": "stream",
          "text": [
            "Now you are standing in a dark...\n",
            "To escape from this room....\n",
            " you have to choose any one door from  these two doors (left or right)\n",
            "  if you have to choose any one door type (left or right).. and enter....\n",
            "right\n",
            "Now you entered into the horrible monster_room....\n",
            "To escape choose any one door(left or right)\n",
            "right\n",
            "you are dead....good luck for next time...!\n"
          ],
          "name": "stdout"
        }
      ]
    }
  ]
}