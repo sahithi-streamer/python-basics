{
  "nbformat": 4,
  "nbformat_minor": 0,
  "metadata": {
    "colab": {
      "name": "dice roller.ipynb",
      "provenance": [],
      "authorship_tag": "ABX9TyP9CNzCGY61qLGOKkPt2ohQ",
      "include_colab_link": true
    },
    "kernelspec": {
      "name": "python3",
      "display_name": "Python 3"
    },
    "language_info": {
      "name": "python"
    }
  },
  "cells": [
    {
      "cell_type": "markdown",
      "metadata": {
        "id": "view-in-github",
        "colab_type": "text"
      },
      "source": [
        "<a href=\"https://colab.research.google.com/github/sahithi-streamer/python-basics/blob/main/dice_roller.ipynb\" target=\"_parent\"><img src=\"https://colab.research.google.com/assets/colab-badge.svg\" alt=\"Open In Colab\"/></a>"
      ]
    },
    {
      "cell_type": "code",
      "metadata": {
        "colab": {
          "base_uri": "https://localhost:8080/"
        },
        "id": "1rz2AJjSc5_w",
        "outputId": "8061bb6a-8aad-4c54-8252-9a96e8a886d5"
      },
      "source": [
        "import random\n",
        "random.seed(1)\n",
        "while True:\n",
        " print(\"1. roll the dice for the game to start          2. exit if u dont want to roll the dice\")\n",
        " user=int(input(\"what do u want to do\"))\n",
        " if user==1:\n",
        "   number=random.randint(1,6)\n",
        "   print(f\"ur number on dice is{number}\")\n",
        " else:\n",
        "   break "
      ],
      "execution_count": 7,
      "outputs": [
        {
          "output_type": "stream",
          "text": [
            "1. roll the dice for the game to start          2. exit if u dont want to roll the dice\n",
            "what do u want to do1\n",
            "ur number on dice is2\n",
            "1. roll the dice for the game to start          2. exit if u dont want to roll the dice\n",
            "what do u want to do1\n",
            "ur number on dice is5\n",
            "1. roll the dice for the game to start          2. exit if u dont want to roll the dice\n",
            "what do u want to do1\n",
            "ur number on dice is1\n",
            "1. roll the dice for the game to start          2. exit if u dont want to roll the dice\n",
            "what do u want to do1\n",
            "ur number on dice is3\n",
            "1. roll the dice for the game to start          2. exit if u dont want to roll the dice\n",
            "what do u want to do2\n"
          ],
          "name": "stdout"
        }
      ]
    },
    {
      "cell_type": "code",
      "metadata": {
        "id": "UqXXlpzieQMT"
      },
      "source": [
        ""
      ],
      "execution_count": null,
      "outputs": []
    }
  ]
}